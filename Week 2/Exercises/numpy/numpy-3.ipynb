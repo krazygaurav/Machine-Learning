{
 "cells": [
  {
   "cell_type": "code",
   "execution_count": 1,
   "metadata": {
    "collapsed": true
   },
   "outputs": [],
   "source": [
    "import numpy as np"
   ]
  },
  {
   "cell_type": "markdown",
   "metadata": {},
   "source": [
    "# Excercise 3"
   ]
  },
  {
   "cell_type": "markdown",
   "metadata": {},
   "source": [
    "Given two matrix of intergers of same shape. Find a boolean matrix and 0,1 matrix which represents which of the elements are equal at any index in both matrix\n",
    "\n",
    "    Input\n",
    "    [[2 2 1 1 2]\n",
    "     [1 2 2 1 2]\n",
    "     [2 3 1 2 1]\n",
    "     [3 1 3 1 1]\n",
    "     [1 3 1 3 3]]\n",
    "\n",
    "    [[2 1 1 3 2]\n",
    "     [3 2 2 2 2]\n",
    "     [3 2 1 3 3]\n",
    "     [3 2 1 2 2]\n",
    "     [1 3 2 2 3]]\n",
    "     \n",
    "    Output\n",
    "    [[ True False  True False  True]\n",
    "     [False  True  True False  True]\n",
    "     [False False  True False False]\n",
    "     [ True False False False False]\n",
    "     [ True  True False False  True]]\n",
    "     \n",
    "     [[0 1 0 1 0]\n",
    "     [1 0 0 1 0]\n",
    "     [1 1 0 1 1]\n",
    "     [0 1 1 1 1]\n",
    "     [0 0 1 1 0]]"
   ]
  },
  {
   "cell_type": "code",
   "execution_count": 13,
   "metadata": {},
   "outputs": [
    {
     "data": {
      "text/plain": [
       "array([[1, 0, 0, 3, 2],\n",
       "       [1, 1, 0, 0, 0],\n",
       "       [1, 3, 2, 0, 1],\n",
       "       [3, 1, 0, 0, 1],\n",
       "       [2, 0, 2, 2, 3]])"
      ]
     },
     "execution_count": 13,
     "metadata": {},
     "output_type": "execute_result"
    }
   ],
   "source": [
    "input1 = np.random.randint(0,4,25).reshape([5,5])\n",
    "input1"
   ]
  },
  {
   "cell_type": "code",
   "execution_count": 14,
   "metadata": {},
   "outputs": [
    {
     "data": {
      "text/plain": [
       "array([[3, 1, 2, 0, 3],\n",
       "       [3, 1, 1, 2, 2],\n",
       "       [2, 3, 2, 2, 3],\n",
       "       [3, 2, 3, 0, 2],\n",
       "       [3, 0, 1, 1, 3]])"
      ]
     },
     "execution_count": 14,
     "metadata": {},
     "output_type": "execute_result"
    }
   ],
   "source": [
    "input2 = np.random.randint(0,4,25).reshape([5,5])\n",
    "input2"
   ]
  },
  {
   "cell_type": "code",
   "execution_count": 16,
   "metadata": {},
   "outputs": [
    {
     "data": {
      "text/plain": [
       "[array([[False, False, False, False, False],\n",
       "        [False,  True, False, False, False],\n",
       "        [False,  True,  True, False, False],\n",
       "        [ True, False, False,  True, False],\n",
       "        [False,  True, False, False,  True]], dtype=bool)]"
      ]
     },
     "execution_count": 16,
     "metadata": {},
     "output_type": "execute_result"
    }
   ],
   "source": [
    "output = [input1 == input2]\n",
    "output"
   ]
  },
  {
   "cell_type": "code",
   "execution_count": 23,
   "metadata": {
    "collapsed": true
   },
   "outputs": [],
   "source": [
    "output1 = np.zeros([5,5], dtype=np.int16)\n",
    "#convert False = 0 and True = 1"
   ]
  },
  {
   "cell_type": "code",
   "execution_count": 24,
   "metadata": {},
   "outputs": [
    {
     "data": {
      "text/plain": [
       "array([[0, 0, 0, 0, 0],\n",
       "       [0, 1, 0, 0, 0],\n",
       "       [0, 1, 1, 0, 0],\n",
       "       [1, 0, 0, 1, 0],\n",
       "       [0, 1, 0, 0, 1]], dtype=int16)"
      ]
     },
     "execution_count": 24,
     "metadata": {},
     "output_type": "execute_result"
    }
   ],
   "source": [
    "dc = np.array(input1==input2, dtype=np.int16)\n",
    "dc"
   ]
  },
  {
   "cell_type": "code",
   "execution_count": 3,
   "metadata": {},
   "outputs": [],
   "source": [
    "a = np.random.randint(0,4,[4,4], dtype=np.int32)\n",
    "b = np.random.randint(0,4,[4,4], dtype=np.int32)"
   ]
  },
  {
   "cell_type": "code",
   "execution_count": 23,
   "metadata": {},
   "outputs": [],
   "source": [
    "c = np.zeros([4,4], dtype=np.int32)"
   ]
  },
  {
   "cell_type": "code",
   "execution_count": 26,
   "metadata": {},
   "outputs": [],
   "source": [
    "c[a==b] = 1"
   ]
  },
  {
   "cell_type": "code",
   "execution_count": 27,
   "metadata": {},
   "outputs": [
    {
     "data": {
      "text/plain": [
       "array([[1, 1, 0, 0],\n",
       "       [0, 0, 1, 1],\n",
       "       [0, 1, 0, 0],\n",
       "       [1, 1, 1, 1]])"
      ]
     },
     "execution_count": 27,
     "metadata": {},
     "output_type": "execute_result"
    }
   ],
   "source": [
    "c"
   ]
  }
 ],
 "metadata": {
  "anaconda-cloud": {},
  "kernelspec": {
   "display_name": "Python 3",
   "language": "python",
   "name": "python3"
  },
  "language_info": {
   "codemirror_mode": {
    "name": "ipython",
    "version": 3
   },
   "file_extension": ".py",
   "mimetype": "text/x-python",
   "name": "python",
   "nbconvert_exporter": "python",
   "pygments_lexer": "ipython3",
   "version": "3.6.1"
  }
 },
 "nbformat": 4,
 "nbformat_minor": 1
}
