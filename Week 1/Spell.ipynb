{
 "cells": [
  {
   "cell_type": "markdown",
   "metadata": {},
   "source": [
    "# Q1 - Write a program that gives a sentence in English (Maybe with spelling mistakes) can output the correct Sentence?"
   ]
  },
  {
   "cell_type": "code",
   "execution_count": 2,
   "metadata": {},
   "outputs": [
    {
     "name": "stdout",
     "output_type": "stream",
     "text": [
      "6488666\n"
     ]
    }
   ],
   "source": [
    "words = open(\"big.txt\", \"r\").read()\n",
    "print(len(words))"
   ]
  },
  {
   "cell_type": "code",
   "execution_count": 3,
   "metadata": {},
   "outputs": [
    {
     "name": "stdout",
     "output_type": "stream",
     "text": [
      "1105285\n"
     ]
    }
   ],
   "source": [
    "# Getting tokens\n",
    "import re\n",
    "tokens = re.findall('[a-z]+', words.lower())\n",
    "print(len(tokens))"
   ]
  },
  {
   "cell_type": "code",
   "execution_count": 8,
   "metadata": {},
   "outputs": [
    {
     "data": {
      "text/plain": [
       "[('the', 80030),\n",
       " ('of', 40025),\n",
       " ('and', 38313),\n",
       " ('to', 28766),\n",
       " ('in', 22050),\n",
       " ('a', 21155),\n",
       " ('that', 12512),\n",
       " ('he', 12401),\n",
       " ('was', 11410),\n",
       " ('it', 10681)]"
      ]
     },
     "execution_count": 8,
     "metadata": {},
     "output_type": "execute_result"
    }
   ],
   "source": [
    "# Frequency\n",
    "from collections import Counter\n",
    "counts = Counter(tokens)\n",
    "counts.most_common(10)"
   ]
  },
  {
   "cell_type": "code",
   "execution_count": 7,
   "metadata": {
    "collapsed": true
   },
   "outputs": [],
   "source": [
    "def split(word):\n",
    "    return [(string[:i], string[i:]) for i in range(len(string)+1)]\n",
    "\n",
    "def edit0(word):\n",
    "    return {word}\n",
    "\n",
    "def edit1(word):\n",
    "    alpha = \"abcdefghijklmnopqrstuvwxyz\"\n",
    "    pairs = split(word)\n",
    "    \n",
    "    insertion = [a+x+b for x in alpha for a,b in pairs]\n",
    "    deletion = [a+b[1:] for a,b in pairs if b]\n",
    "    transpose = [a+b[1]+b[0]+b[2:] for a,b in pairs if len(b)>1]\n",
    "    replaces = [a+c+b[1:] for a,b in pairs for c in alpha if b]\n",
    "    return (insertion+deletion+transpose+replaces)"
   ]
  },
  {
   "cell_type": "code",
   "execution_count": null,
   "metadata": {
    "collapsed": true
   },
   "outputs": [],
   "source": []
  }
 ],
 "metadata": {
  "kernelspec": {
   "display_name": "Python 3",
   "language": "python",
   "name": "python3"
  },
  "language_info": {
   "codemirror_mode": {
    "name": "ipython",
    "version": 3
   },
   "file_extension": ".py",
   "mimetype": "text/x-python",
   "name": "python",
   "nbconvert_exporter": "python",
   "pygments_lexer": "ipython3",
   "version": "3.6.1"
  }
 },
 "nbformat": 4,
 "nbformat_minor": 2
}
