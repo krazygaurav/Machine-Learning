{
 "cells": [
  {
   "cell_type": "code",
   "execution_count": 1,
   "metadata": {},
   "outputs": [
    {
     "data": {
      "text/plain": [
       "dict_keys(['1', '2'])"
      ]
     },
     "execution_count": 1,
     "metadata": {},
     "output_type": "execute_result"
    }
   ],
   "source": [
    "dic1 = {'username':'krazygaurav', 'Name':'Gaurav Singhal', 'Age':24}\n",
    "dic2 = {'username':'scorpio', 'Name':'Deepak Singhal', 'Age':22}\n",
    "\n",
    "dic = {'1':dic1}\n",
    "dic['2'] = dic2\n",
    "dic.keys()\n"
   ]
  },
  {
   "cell_type": "code",
   "execution_count": 2,
   "metadata": {},
   "outputs": [
    {
     "data": {
      "text/plain": [
       "['a', 'b', 'mpilgrim', 'z', 'example']"
      ]
     },
     "execution_count": 2,
     "metadata": {},
     "output_type": "execute_result"
    }
   ],
   "source": [
    "li = [\"a\", \"b\", \"mpilgrim\", \"z\", \"example\"]\n",
    "li"
   ]
  },
  {
   "cell_type": "code",
   "execution_count": 3,
   "metadata": {},
   "outputs": [
    {
     "data": {
      "text/plain": [
       "False"
      ]
     },
     "execution_count": 3,
     "metadata": {},
     "output_type": "execute_result"
    }
   ],
   "source": [
    "tupl = (\"a\", \"b\", \"mpilgrim\", \"z\", \"example\")\n",
    "'d' in tupl"
   ]
  },
  {
   "cell_type": "code",
   "execution_count": 4,
   "metadata": {},
   "outputs": [
    {
     "data": {
      "text/plain": [
       "{'1': 'Gaurav Singhal', '2': 'Deepak Singha'}"
      ]
     },
     "execution_count": 4,
     "metadata": {},
     "output_type": "execute_result"
    }
   ],
   "source": [
    "myParam = { \"1\":\"Gaurav Singhal\",\\\n",
    "    \"2\":\"Deepak Singha\"\\\n",
    "}\n",
    "myParam"
   ]
  },
  {
   "cell_type": "code",
   "execution_count": 5,
   "metadata": {},
   "outputs": [
    {
     "data": {
      "text/plain": [
       "'c'"
      ]
     },
     "execution_count": 5,
     "metadata": {},
     "output_type": "execute_result"
    }
   ],
   "source": [
    "v = ('a', 'b', 'c')\n",
    "(x,y,z) = v\n",
    "z"
   ]
  },
  {
   "cell_type": "code",
   "execution_count": 6,
   "metadata": {},
   "outputs": [
    {
     "data": {
      "text/plain": [
       "'A'"
      ]
     },
     "execution_count": 6,
     "metadata": {},
     "output_type": "execute_result"
    }
   ],
   "source": [
    "(a,b,c) = ('A', 'B','C')\n",
    "a"
   ]
  },
  {
   "cell_type": "code",
   "execution_count": 7,
   "metadata": {},
   "outputs": [
    {
     "name": "stdout",
     "output_type": "stream",
     "text": [
      "Hi, Gaurav Singhal\n"
     ]
    }
   ],
   "source": [
    "print(\"Hi, %s %s\"%(\"Gaurav\", \"Singhal\"))"
   ]
  },
  {
   "cell_type": "code",
   "execution_count": 8,
   "metadata": {},
   "outputs": [
    {
     "data": {
      "text/plain": [
       "dict_items([('server', 'mpilgrim'), ('database', 'master'), ('uid', 'sa'), ('pwd', 'secret')])"
      ]
     },
     "execution_count": 8,
     "metadata": {},
     "output_type": "execute_result"
    }
   ],
   "source": [
    "params = {\"server\":\"mpilgrim\", \"database\":\"master\", \"uid\":\"sa\", \"pwd\":\"secret\"}\n",
    "params.keys()\n",
    "params.values()\n",
    "params.items()"
   ]
  },
  {
   "cell_type": "code",
   "execution_count": 9,
   "metadata": {},
   "outputs": [
    {
     "data": {
      "text/plain": [
       "['server=mpilgrim', 'database=master', 'uid=sa', 'pwd=secret']"
      ]
     },
     "execution_count": 9,
     "metadata": {},
     "output_type": "execute_result"
    }
   ],
   "source": [
    "params_values = [\"%s=%s\"%(k,v) for k,v in params.items()]\n",
    "params_values"
   ]
  },
  {
   "cell_type": "code",
   "execution_count": 10,
   "metadata": {},
   "outputs": [
    {
     "data": {
      "text/plain": [
       "25"
      ]
     },
     "execution_count": 10,
     "metadata": {},
     "output_type": "execute_result"
    }
   ],
   "source": [
    "li = [i for i in range(1, 101) if int(i**0.5) == int (i**0.5)]\n",
    "li = [i for i in li if i%2==0 if i%4 == 0]\n",
    "len(li)"
   ]
  },
  {
   "cell_type": "code",
   "execution_count": 11,
   "metadata": {},
   "outputs": [
    {
     "data": {
      "text/plain": [
       "[0, 1, 2, 3, 4, 5, 6, 7, 8]"
      ]
     },
     "execution_count": 11,
     "metadata": {},
     "output_type": "execute_result"
    }
   ],
   "source": [
    "matrix = [ [i for i in range(0,3)], [i for i in range(3,6)], [i for i in range(6,9)] ]\n",
    "matrix\n",
    "combine = [x for row in matrix for x in row]\n",
    "combine"
   ]
  },
  {
   "cell_type": "code",
   "execution_count": 12,
   "metadata": {},
   "outputs": [
    {
     "name": "stdout",
     "output_type": "stream",
     "text": [
      "my nm s grv snghl\n"
     ]
    }
   ],
   "source": [
    "#remove vowels from sentence\n",
    "\n",
    "def removeVowels(string):\n",
    "    vowels = list('aeiou')\n",
    "    return ''.join([s for s in string if s not in vowels])\n",
    "\n",
    "print(removeVowels(string = \"my name is gaurav singhal\"))"
   ]
  },
  {
   "cell_type": "code",
   "execution_count": 13,
   "metadata": {},
   "outputs": [
    {
     "name": "stdout",
     "output_type": "stream",
     "text": [
      "{'India': 'New Delhi', 'Pakistan': 'Islamabad', 'Nepal': 'Kathmandu', 'Bhutan': 'Thimphu', 'China': 'Beijing', 'Bangladesh': 'Dhaka'}\n"
     ]
    }
   ],
   "source": [
    "#Aim: Take two list of same length as input and return a dictionary with one as keys and other as values.\n",
    "country = ['India', 'Pakistan', 'Nepal', 'Bhutan', 'China', 'Bangladesh']\n",
    "capital = ['New Delhi', 'Islamabad','Kathmandu', 'Thimphu', 'Beijing', 'Dhaka']\n",
    "\n",
    "def toDict(keys, values):\n",
    "    return {keys[i]:values[i] for i in range(len(keys))}\n",
    "\n",
    "print(toDict(country, capital))"
   ]
  },
  {
   "cell_type": "code",
   "execution_count": 14,
   "metadata": {
    "collapsed": true
   },
   "outputs": [],
   "source": [
    "#Sqaring each element of list\n",
    "lst = [i for i in range(0,5)]\n",
    "\n",
    "#method 1\n",
    "lst1 = [i**2 for i in lst]\n",
    "lst1\n",
    "\n",
    "#method 2\n",
    "lst1 = map(lambda x: x**2, lst)"
   ]
  },
  {
   "cell_type": "code",
   "execution_count": 15,
   "metadata": {},
   "outputs": [
    {
     "name": "stdout",
     "output_type": "stream",
     "text": [
      "[0, 1, 4, 9, 16]\n"
     ]
    }
   ],
   "source": [
    "lst1 = [i**2 for i in lst if i%2 == 0]\n",
    "lst1\n",
    "print(list(map(lambda x: x**2,lst)))"
   ]
  },
  {
   "cell_type": "code",
   "execution_count": 16,
   "metadata": {},
   "outputs": [
    {
     "name": "stdout",
     "output_type": "stream",
     "text": [
      "[97, 98, 99, 100, 101, 102, 103, 104, 105, 106, 107, 108, 109, 110, 111, 112, 113, 114, 115, 116, 117, 118, 119, 120, 121, 122]\n",
      "[97, 98, 99, 100, 101, 102, 103, 104, 105, 106, 107, 108, 109, 110, 111, 112, 113, 114, 115, 116, 117, 118, 119, 120, 121, 122]\n"
     ]
    }
   ],
   "source": [
    "alpha = \"abcdefghijklmnopqrstuvwxyz\"\n",
    "print([ord(x) for x in alpha])\n",
    "print(list(map(lambda x: ord(x), alpha)))"
   ]
  },
  {
   "cell_type": "code",
   "execution_count": 17,
   "metadata": {},
   "outputs": [],
   "source": [
    "string = \"Hello\"\n",
    "def split(string):\n",
    "    return [(string[:i], string[i:]) for i in range(len(string)+1)]\n",
    "\n",
    "#Splitting word\n",
    "splits = split(string)\n",
    "#print(splits)\n",
    "\n",
    "#inserting a letter between word\n",
    "insertion = [a+x+b for x in alpha for a,b in splits]\n",
    "#print(insertion)\n",
    "\n",
    "#deleting letters from the word\n",
    "deletion = [a+b[1:] for a,b in splits if b]\n",
    "#print(deletion)\n",
    "\n",
    "#transpose adjacent letters\n",
    "transpose = [a+b[1]+b[0]+b[2:] for a,b in splits if len(b)>1]\n",
    "#print(transpose)\n",
    "\n",
    "#replace a letter with another letter\n",
    "replaces = [a+c+b[1:] for a,b in splits for c in alpha if b]\n",
    "#print(replaces)\n",
    "\n",
    "set1 = set([1,2,3,4,5,6,7] + [3,5,6,1,9,0,10])"
   ]
  },
  {
   "cell_type": "code",
   "execution_count": null,
   "metadata": {},
   "outputs": [],
   "source": []
  }
 ],
 "metadata": {
  "kernelspec": {
   "display_name": "Python 3",
   "language": "python",
   "name": "python3"
  },
  "language_info": {
   "codemirror_mode": {
    "name": "ipython",
    "version": 3
   },
   "file_extension": ".py",
   "mimetype": "text/x-python",
   "name": "python",
   "nbconvert_exporter": "python",
   "pygments_lexer": "ipython3",
   "version": "3.6.1"
  }
 },
 "nbformat": 4,
 "nbformat_minor": 2
}
