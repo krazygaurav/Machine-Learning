{
 "cells": [
  {
   "cell_type": "code",
   "execution_count": 2,
   "metadata": {
    "collapsed": true
   },
   "outputs": [],
   "source": [
    "#Write a program that given a sentence in 'English' (may be with correct spellings) can output the correct sentence?\n",
    "import re"
   ]
  },
  {
   "cell_type": "code",
   "execution_count": 4,
   "metadata": {},
   "outputs": [
    {
     "data": {
      "text/plain": [
       "[('the', 80030),\n",
       " ('of', 40025),\n",
       " ('and', 38313),\n",
       " ('to', 28766),\n",
       " ('in', 22050),\n",
       " ('a', 21155),\n",
       " ('that', 12512),\n",
       " ('he', 12401),\n",
       " ('was', 11410),\n",
       " ('it', 10681)]"
      ]
     },
     "execution_count": 4,
     "metadata": {},
     "output_type": "execute_result"
    }
   ],
   "source": [
    "# word = ('hello world! this is my first ML program')\n",
    "# input = word.split(' ')\n",
    "\n",
    "TEXT = open('big.txt').read()\n",
    "# print \"Length of text is:\",len(TEXT)\n",
    "    \n",
    "def tokens(text):\n",
    "    \"List all the word tokens in a text.Normalize to lowercase\"\n",
    "    return re.findall('[a-z]+',text.lower())\n",
    "\n",
    "WORDS = tokens(TEXT)\n",
    "# print \"Effective numer of words in our text collection is: \",len(WORDS)\n",
    "\n",
    "from collections import Counter\n",
    "COUNT_DICTIONARY = Counter(WORDS)\n",
    "COUNT_DICTIONARY.most_common(10)\n",
    "\n",
    "# def split0(WORDS):\n",
    "#     print [(WORDS[:i],WORDS[i:]) for i in range(len(WORDS)+1)]\n",
    "\n",
    "# deletes = [a+b[1:]]"
   ]
  },
  {
   "cell_type": "code",
   "execution_count": 22,
   "metadata": {},
   "outputs": [
    {
     "ename": "SyntaxError",
     "evalue": "can't assign to literal (<ipython-input-22-ab251c03cf48>, line 11)",
     "output_type": "error",
     "traceback": [
      "\u001b[1;36m  File \u001b[1;32m\"<ipython-input-22-ab251c03cf48>\"\u001b[1;36m, line \u001b[1;32m11\u001b[0m\n\u001b[1;33m    deletes = [a+b[1:]                           for {a,b} in pairs if b]\u001b[0m\n\u001b[1;37m                                                    ^\u001b[0m\n\u001b[1;31mSyntaxError\u001b[0m\u001b[1;31m:\u001b[0m can't assign to literal\n"
     ]
    }
   ],
   "source": [
    "def split0(word):\n",
    "    return [(word[:i], word[i:]) for i in range(len(word)+1)]\n",
    "    \n",
    "def edits0(word):\n",
    "    \"Returns all words that are zero edits away from the word\"\n",
    "    return {word}\n",
    "\n",
    "def edits1(word):\n",
    "    alphabets = 'abcdefghijklmnopqrstuvwxyz'\n",
    "    pairs = split(word)\n",
    "    deletes = [a+b[1:]                           for {a,b} in pairs if b]\n",
    "    transposes = [a+b[1]+b[0]+b[2:]              for {a,b} in pairs if len(b)>1]\n",
    "    replaces = [a+c+b[1:]                        for {a,b} in pairs for c in alphabet if b]\n",
    "    inserts = [a+c+b                             for {a,b} in pairs for c in alphabet]\n",
    "    return set(deletes+transposes+replaces+inserts)"
   ]
  },
  {
   "cell_type": "code",
   "execution_count": 46,
   "metadata": {
    "collapsed": true
   },
   "outputs": [],
   "source": [
    "def known(words):\n",
    "    return {w for w in words if w in COUNT_DICTIONARY}\n",
    "\n",
    "def correct(word):\n",
    "    candidates = (known(edits0(word)) or\n",
    "                 known(edits1(word)) or\n",
    "                 [word])\n",
    "    return max(candidates, key=COUNT_DICTIONARY.get)"
   ]
  },
  {
   "cell_type": "code",
   "execution_count": null,
   "metadata": {
    "collapsed": true
   },
   "outputs": [],
   "source": []
  },
  {
   "cell_type": "code",
   "execution_count": 49,
   "metadata": {},
   "outputs": [
    {
     "ename": "TypeError",
     "evalue": "edits0() takes no arguments (1 given)",
     "output_type": "error",
     "traceback": [
      "\u001b[0;31m---------------------------------------------------------------------------\u001b[0m",
      "\u001b[0;31mTypeError\u001b[0m                                 Traceback (most recent call last)",
      "\u001b[0;32m<ipython-input-49-af16f55807fd>\u001b[0m in \u001b[0;36m<module>\u001b[0;34m()\u001b[0m\n\u001b[0;32m----> 1\u001b[0;31m \u001b[0mmap\u001b[0m\u001b[1;33m(\u001b[0m\u001b[0mcorrect\u001b[0m\u001b[1;33m,\u001b[0m\u001b[0mtokens\u001b[0m\u001b[1;33m(\u001b[0m\u001b[1;34m'Speling'\u001b[0m\u001b[1;33m)\u001b[0m\u001b[1;33m)\u001b[0m\u001b[1;33m\u001b[0m\u001b[0m\n\u001b[0m",
      "\u001b[0;32m<ipython-input-46-7d55ba88aa68>\u001b[0m in \u001b[0;36mcorrect\u001b[0;34m(word)\u001b[0m\n\u001b[1;32m      3\u001b[0m \u001b[1;33m\u001b[0m\u001b[0m\n\u001b[1;32m      4\u001b[0m \u001b[1;32mdef\u001b[0m \u001b[0mcorrect\u001b[0m\u001b[1;33m(\u001b[0m\u001b[0mword\u001b[0m\u001b[1;33m)\u001b[0m\u001b[1;33m:\u001b[0m\u001b[1;33m\u001b[0m\u001b[0m\n\u001b[0;32m----> 5\u001b[0;31m     candidates = (known(edits0(word)) or\n\u001b[0m\u001b[1;32m      6\u001b[0m                  \u001b[0mknown\u001b[0m\u001b[1;33m(\u001b[0m\u001b[0medits1\u001b[0m\u001b[1;33m(\u001b[0m\u001b[0mword\u001b[0m\u001b[1;33m)\u001b[0m\u001b[1;33m)\u001b[0m \u001b[1;32mor\u001b[0m\u001b[1;33m\u001b[0m\u001b[0m\n\u001b[1;32m      7\u001b[0m                  [word])\n",
      "\u001b[0;31mTypeError\u001b[0m: edits0() takes no arguments (1 given)"
     ]
    }
   ],
   "source": [
    "map(correct,tokens('Speling'))"
   ]
  },
  {
   "cell_type": "code",
   "execution_count": 20,
   "metadata": {},
   "outputs": [
    {
     "data": {
      "text/plain": [
       "[('a', 'b'),\n",
       " ('a', 'b'),\n",
       " ('a', 'b'),\n",
       " ('a', 'b'),\n",
       " ('a', 'b'),\n",
       " ('a', 'b'),\n",
       " ('a', 'b'),\n",
       " ('a', 'b'),\n",
       " ('a', 'b')]"
      ]
     },
     "execution_count": 20,
     "metadata": {},
     "output_type": "execute_result"
    }
   ],
   "source": [
    "lst = [('a','b') for i in range(1,10)]\n",
    "lst"
   ]
  }
 ],
 "metadata": {
  "anaconda-cloud": {},
  "kernelspec": {
   "display_name": "Python 3",
   "language": "python",
   "name": "python3"
  },
  "language_info": {
   "codemirror_mode": {
    "name": "ipython",
    "version": 3
   },
   "file_extension": ".py",
   "mimetype": "text/x-python",
   "name": "python",
   "nbconvert_exporter": "python",
   "pygments_lexer": "ipython3",
   "version": "3.6.1"
  }
 },
 "nbformat": 4,
 "nbformat_minor": 1
}
