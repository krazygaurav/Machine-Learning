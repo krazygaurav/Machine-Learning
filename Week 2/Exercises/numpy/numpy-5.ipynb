{
 "cells": [
  {
   "cell_type": "code",
   "execution_count": 1,
   "metadata": {
    "collapsed": true
   },
   "outputs": [],
   "source": [
    "import numpy as np"
   ]
  },
  {
   "cell_type": "markdown",
   "metadata": {},
   "source": [
    "# Excercise 5"
   ]
  },
  {
   "cell_type": "markdown",
   "metadata": {},
   "source": [
    "Given an numpy array of shape [10, 3]. For each row, find the number which is closest to 0.5."
   ]
  },
  {
   "cell_type": "code",
   "execution_count": 2,
   "metadata": {},
   "outputs": [
    {
     "data": {
      "text/plain": [
       "array([[ 0.09111663,  0.31095796,  0.53998343],\n",
       "       [ 0.11918234,  0.72095092,  0.72478153],\n",
       "       [ 0.21904426,  0.74619955,  0.03284627],\n",
       "       [ 0.08341026,  0.11297673,  0.95180553],\n",
       "       [ 0.61150872,  0.93113791,  0.73908772],\n",
       "       [ 0.60820983,  0.98469698,  0.66606131],\n",
       "       [ 0.61030511,  0.42264017,  0.29641313],\n",
       "       [ 0.83356216,  0.78381926,  0.59798666],\n",
       "       [ 0.93221013,  0.94321222,  0.72720573],\n",
       "       [ 0.16885586,  0.14133725,  0.41898036]])"
      ]
     },
     "execution_count": 2,
     "metadata": {},
     "output_type": "execute_result"
    }
   ],
   "source": [
    "a = np.random.rand(30).reshape([10,3])\n",
    "a"
   ]
  },
  {
   "cell_type": "code",
   "execution_count": 3,
   "metadata": {},
   "outputs": [
    {
     "data": {
      "text/plain": [
       "[array([[-0.40888337, -0.18904204,  0.03998343],\n",
       "        [-0.38081766,  0.22095092,  0.22478153],\n",
       "        [-0.28095574,  0.24619955, -0.46715373],\n",
       "        [-0.41658974, -0.38702327,  0.45180553],\n",
       "        [ 0.11150872,  0.43113791,  0.23908772],\n",
       "        [ 0.10820983,  0.48469698,  0.16606131],\n",
       "        [ 0.11030511, -0.07735983, -0.20358687],\n",
       "        [ 0.33356216,  0.28381926,  0.09798666],\n",
       "        [ 0.43221013,  0.44321222,  0.22720573],\n",
       "        [-0.33114414, -0.35866275, -0.08101964]])]"
      ]
     },
     "execution_count": 3,
     "metadata": {},
     "output_type": "execute_result"
    }
   ],
   "source": [
    "a = [a-0.5]\n",
    "a"
   ]
  },
  {
   "cell_type": "code",
   "execution_count": 5,
   "metadata": {},
   "outputs": [],
   "source": [
    "a = np.array(a)"
   ]
  },
  {
   "cell_type": "code",
   "execution_count": 6,
   "metadata": {},
   "outputs": [
    {
     "data": {
      "text/plain": [
       "array([[[ 2.        ,  2.        ,  0.03998343],\n",
       "        [ 2.        ,  0.22095092,  0.22478153],\n",
       "        [ 2.        ,  0.24619955,  2.        ],\n",
       "        [ 2.        ,  2.        ,  0.45180553],\n",
       "        [ 0.11150872,  0.43113791,  0.23908772],\n",
       "        [ 0.10820983,  0.48469698,  0.16606131],\n",
       "        [ 0.11030511,  2.        ,  2.        ],\n",
       "        [ 0.33356216,  0.28381926,  0.09798666],\n",
       "        [ 0.43221013,  0.44321222,  0.22720573],\n",
       "        [ 2.        ,  2.        ,  2.        ]]])"
      ]
     },
     "execution_count": 6,
     "metadata": {},
     "output_type": "execute_result"
    }
   ],
   "source": [
    "a[a < 0.0] = 2.0\n",
    "a"
   ]
  },
  {
   "cell_type": "code",
   "execution_count": 8,
   "metadata": {},
   "outputs": [
    {
     "data": {
      "text/plain": [
       "0.53998343090283918"
      ]
     },
     "execution_count": 8,
     "metadata": {},
     "output_type": "execute_result"
    }
   ],
   "source": [
    "np.min(a) + 0.5"
   ]
  }
 ],
 "metadata": {
  "anaconda-cloud": {},
  "kernelspec": {
   "display_name": "Python 3",
   "language": "python",
   "name": "python3"
  },
  "language_info": {
   "codemirror_mode": {
    "name": "ipython",
    "version": 3
   },
   "file_extension": ".py",
   "mimetype": "text/x-python",
   "name": "python",
   "nbconvert_exporter": "python",
   "pygments_lexer": "ipython3",
   "version": "3.6.1"
  }
 },
 "nbformat": 4,
 "nbformat_minor": 1
}
