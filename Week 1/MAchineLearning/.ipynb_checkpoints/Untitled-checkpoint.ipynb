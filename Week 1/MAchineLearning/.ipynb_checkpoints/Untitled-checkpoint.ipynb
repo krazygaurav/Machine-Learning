{
 "cells": [
  {
   "cell_type": "code",
   "execution_count": 52,
   "metadata": {},
   "outputs": [
    {
     "name": "stdout",
     "output_type": "stream",
     "text": [
      "6488666\n"
     ]
    }
   ],
   "source": [
    "import re\n",
    "TEXT = open('./big.txt').read()\n",
    "print (len(TEXT))"
   ]
  },
  {
   "cell_type": "code",
   "execution_count": 53,
   "metadata": {},
   "outputs": [
    {
     "name": "stdout",
     "output_type": "stream",
     "text": [
      "1105285\n",
      "[('the', 80030), ('of', 40025), ('and', 38313), ('to', 28766), ('in', 22050), ('a', 21155), ('that', 12512), ('he', 12401), ('was', 11410), ('it', 10681)]\n"
     ]
    }
   ],
   "source": [
    "def tokens(text):\n",
    "    return re.findall('[a-z]+', text.lower())\n",
    "WORDS = tokens(TEXT)\n",
    "print (len(WORDS))\n",
    "\n",
    "from collections import Counter\n",
    "COUNT_DICTIONARY = Counter(WORDS)\n",
    "print (COUNT_DICTIONARY.most_common(10))"
   ]
  },
  {
   "cell_type": "code",
   "execution_count": 54,
   "metadata": {},
   "outputs": [
    {
     "name": "stdout",
     "output_type": "stream",
     "text": [
      "['i', 'am', 'meking', 'sume', 'speeling', 'mistkaes']\n"
     ]
    }
   ],
   "source": [
    "sentence = 'I am meking sume speeling mistkaes'\n",
    "\n",
    "words = tokens(sentence)\n",
    "print(words)\n",
    "\n",
    "def split(word):\n",
    "    return [(word[:i],word[i:]) for i in range(len(word)+1)]\n",
    "\n",
    "def edit0(word):\n",
    "    return word\n",
    "\n",
    "def edit1(word):\n",
    "    alphabet = 'abcdefghijklmnopqrstuvwxyz'\n",
    "    pairs = split(word)\n",
    "    \n",
    "    delete = [a+b[1:] for (a, b) in pairs if b]\n",
    "    transposes = [a+b[1]+b[0]+b[2:] for (a, b) in pairs if len(b) > 1]\n",
    "    replaces = [a+c+b[1:] for (a, b) in pairs for c in alphabet if b]\n",
    "    inserts = [a+c+b for(a, b) in pairs for c in alphabet]\n",
    "    return set(deletes + transposes + replaces + inserts)\n",
    "    "
   ]
  },
  {
   "cell_type": "code",
   "execution_count": 55,
   "metadata": {
    "collapsed": true
   },
   "outputs": [],
   "source": [
    "def known(words):\n",
    "    return (w for w in words if w in COUNT_DICTIONARY)\n",
    "\n",
    "def correct(word):\n",
    "    candidates = (known(edits0(word)) or\n",
    "                  known(edits1(word)) or\n",
    "                  [word])\n",
    "    return max(candidate, key=COUNT_DICTIONARY.get)"
   ]
  },
  {
   "cell_type": "code",
   "execution_count": 58,
   "metadata": {},
   "outputs": [
    {
     "data": {
      "text/plain": [
       "<map at 0xedc6da0>"
      ]
     },
     "execution_count": 58,
     "metadata": {},
     "output_type": "execute_result"
    }
   ],
   "source": [
    "map(correct, tokens('I am meking sume speeling mistkaes'))"
   ]
  },
  {
   "cell_type": "code",
   "execution_count": 4,
   "metadata": {},
   "outputs": [],
   "source": [
    "s = \"this is\\na\\ttest\"\n",
    "s.split().join(\" \")"
   ]
  }
 ],
 "metadata": {
  "kernelspec": {
   "display_name": "Python 3",
   "language": "python",
   "name": "python3"
  },
  "language_info": {
   "codemirror_mode": {
    "name": "ipython",
    "version": 3
   },
   "file_extension": ".py",
   "mimetype": "text/x-python",
   "name": "python",
   "nbconvert_exporter": "python",
   "pygments_lexer": "ipython3",
   "version": "3.6.1"
  }
 },
 "nbformat": 4,
 "nbformat_minor": 2
}
