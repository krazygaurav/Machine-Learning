{
 "cells": [
  {
   "cell_type": "markdown",
   "metadata": {},
   "source": [
    "Problem 2: If a coint is tossed 30 times and it comes up head 22 times - Can you tell me - If the coin is a Fair Coin"
   ]
  },
  {
   "cell_type": "code",
   "execution_count": 7,
   "metadata": {},
   "outputs": [],
   "source": [
    "def factorial(number):\n",
    "    fact = 1;\n",
    "    for i in range(1,number+1):\n",
    "        fact *= i\n",
    "    return fact\n",
    "\n"
   ]
  },
  {
   "cell_type": "code",
   "execution_count": 336,
   "metadata": {},
   "outputs": [
    {
     "name": "stdout",
     "output_type": "stream",
     "text": [
      "27\n"
     ]
    }
   ],
   "source": [
    "import random\n",
    "def randomNumbers(x):\n",
    "    lst = []\n",
    "    for i in range(x):\n",
    "        lst.append(random.randint(0,100) % 2)\n",
    "    return lst\n",
    "\n",
    "print(len([i for i in randomNumbers(50) if i == 1]))"
   ]
  },
  {
   "cell_type": "code",
   "execution_count": 339,
   "metadata": {},
   "outputs": [
    {
     "name": "stdout",
     "output_type": "stream",
     "text": [
      "92.86999999999999 %\n"
     ]
    }
   ],
   "source": [
    "total_exp = 10000\n",
    "total_toss = 50\n",
    "total_heads = 0\n",
    "\n",
    "headExp = []\n",
    "for i in range(total_exp):\n",
    "    exp = randomNumbers(total_toss)\n",
    "    heads = len([i for i in exp if i == 1])\n",
    "    if heads >= 20:\n",
    "        total_heads += 1\n",
    "    #pHead = (factorial(total_toss)/(factorial(heads)*factorial(total_toss - heads))) * ((1/2)**heads * (1/2)**(total_toss-heads))\n",
    "    #headExp.append(pHead)\n",
    "\n",
    "print((total_heads/(total_exp*1.0))*100, \"%\")\n"
   ]
  },
  {
   "cell_type": "code",
   "execution_count": null,
   "metadata": {
    "collapsed": true
   },
   "outputs": [],
   "source": []
  }
 ],
 "metadata": {
  "kernelspec": {
   "display_name": "Python 3",
   "language": "python",
   "name": "python3"
  },
  "language_info": {
   "codemirror_mode": {
    "name": "ipython",
    "version": 3
   },
   "file_extension": ".py",
   "mimetype": "text/x-python",
   "name": "python",
   "nbconvert_exporter": "python",
   "pygments_lexer": "ipython3",
   "version": "3.6.1"
  }
 },
 "nbformat": 4,
 "nbformat_minor": 2
}
