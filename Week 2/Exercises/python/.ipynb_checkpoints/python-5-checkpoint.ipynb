{
 "cells": [
  {
   "cell_type": "markdown",
   "metadata": {},
   "source": [
    "# Excercise 5"
   ]
  },
  {
   "cell_type": "markdown",
   "metadata": {},
   "source": [
    "Given two array with x and y value. Sort them based on value of `x` \n",
    "    \n",
    "    Input\n",
    "    \n",
    "    x = [5, 9, 2, 10, 7, 4, 8, 1, 6, 3]\n",
    "    y = ['Five', 'Nine', 'Two', 'Ten', 'Seven', 'Four', 'Eight', 'One', 'Six', 'Three']\n",
    "    \n",
    "    Output\n",
    "    x = [1, 2, 3, 4, 5, 6, 7, 8, 9, 10]\n",
    "    y = [\"One\", \"Two\", \"Three\", \"Four\", \"Five\", \"Six\", \"Seven\", \"Eight\", \"Nine\", \"Ten\"]"
   ]
  },
  {
   "cell_type": "code",
   "execution_count": 30,
   "metadata": {
    "collapsed": true
   },
   "outputs": [],
   "source": [
    "x = [5, 9, 2, 10, 7, 4, 8, 1, 6, 3]\n",
    "y = ['Five', 'Nine', 'Two', 'Ten', 'Seven', 'Four', 'Eight', 'One', 'Six', 'Three']"
   ]
  },
  {
   "cell_type": "code",
   "execution_count": 33,
   "metadata": {},
   "outputs": [],
   "source": [
    "z = zip(x,y)\n",
    "output = sorted(z)\n",
    "output\n",
    "z1 = [t1 for t1,t2 in output],[t2 for t1,t2 in output]"
   ]
  },
  {
   "cell_type": "code",
   "execution_count": 36,
   "metadata": {},
   "outputs": [
    {
     "data": {
      "text/plain": [
       "[1, 2, 3, 4, 5, 6, 7, 8, 9, 10]"
      ]
     },
     "execution_count": 36,
     "metadata": {},
     "output_type": "execute_result"
    }
   ],
   "source": [
    "x = z1[0]\n",
    "x"
   ]
  },
  {
   "cell_type": "code",
   "execution_count": 37,
   "metadata": {},
   "outputs": [
    {
     "data": {
      "text/plain": [
       "['One', 'Two', 'Three', 'Four', 'Five', 'Six', 'Seven', 'Eight', 'Nine', 'Ten']"
      ]
     },
     "execution_count": 37,
     "metadata": {},
     "output_type": "execute_result"
    }
   ],
   "source": [
    "y = z1[1]\n",
    "y"
   ]
  }
 ],
 "metadata": {
  "anaconda-cloud": {},
  "kernelspec": {
   "display_name": "Python 3",
   "language": "python",
   "name": "python3"
  },
  "language_info": {
   "codemirror_mode": {
    "name": "ipython",
    "version": 3
   },
   "file_extension": ".py",
   "mimetype": "text/x-python",
   "name": "python",
   "nbconvert_exporter": "python",
   "pygments_lexer": "ipython3",
   "version": "3.6.1"
  }
 },
 "nbformat": 4,
 "nbformat_minor": 1
}
