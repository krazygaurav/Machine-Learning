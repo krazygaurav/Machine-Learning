{
 "cells": [
  {
   "cell_type": "markdown",
   "metadata": {},
   "source": [
    "Working on Classes"
   ]
  },
  {
   "cell_type": "code",
   "execution_count": 33,
   "metadata": {},
   "outputs": [
    {
     "name": "stdout",
     "output_type": "stream",
     "text": [
      "In self\n"
     ]
    }
   ],
   "source": [
    "class FileInfo():\n",
    "    def __init__(self, fileName=None):\n",
    "        print(\"In self\")\n",
    "        \n",
    "f = FileInfo(\"/windows-version.txt\")"
   ]
  },
  {
   "cell_type": "code",
   "execution_count": 36,
   "metadata": {},
   "outputs": [
    {
     "name": "stdout",
     "output_type": "stream",
     "text": [
      "ALLUSERSPROFILE=C:\\ProgramData\n",
      "APPDATA=C:\\Users\\gauravsinghal\\AppData\\Roaming\n",
      "COMMONPROGRAMFILES=C:\\Program Files (x86)\\Common Files\n",
      "COMMONPROGRAMFILES(X86)=C:\\Program Files (x86)\\Common Files\n",
      "COMMONPROGRAMW6432=C:\\Program Files\\Common Files\n",
      "COMMPATH=C:\\Program Files\\Lenovo\\Communications Utility\n",
      "COMPUTERNAME=GAURAVJ143\n",
      "COMSPEC=C:\\Windows\\system32\\cmd.exe\n",
      "CONDA_DEFAULT_ENV=C:\\Users\\gauravsinghal\\AppData\\Local\\Continuum\\Anaconda3\n",
      "CONDA_PS1_BACKUP=$P$G\n",
      "CONDA_ROOT=C:\\Users\\gauravsinghal\\AppData\\Local\\Continuum\\Anaconda3\n",
      "CONFIGSETROOT=C:\\Windows\\ConfigSetRoot\n",
      "DOCKER_TOOLBOX_INSTALL_PATH=C:\\Program Files\\Docker Toolbox\n",
      "EASYPLUSSDK=\"C:\\Program Files (x86)\\Common Files\\lenovo\\easyplussdk\\bin\"\n",
      "FP_NO_HOST_CHECK=NO\n",
      "HOMEDRIVE=C:\n",
      "HOMEPATH=\\Users\\gauravsinghal\n",
      "LOCALAPPDATA=C:\\Users\\gauravsinghal\\AppData\\Local\n",
      "LOGONSERVER=\\\\JPSVRDC01\n",
      "NUMBER_OF_PROCESSORS=8\n",
      "ONEDRIVE=C:\\Users\\gauravsinghal\\OneDrive\n",
      "OS=Windows_NT\n",
      "PATH=C:\\Users\\gauravsinghal\\AppData\\Local\\Continuum\\Anaconda3\\Library\\bin;C:\\Users\\gauravsinghal\\AppData\\Local\\Continuum\\Anaconda3\\Library\\bin;C:\\Users\\gauravsinghal\\AppData\\Local\\Continuum\\Anaconda3\\Library\\bin;C:\\Users\\gauravsinghal\\AppData\\Local\\Continuum\\Anaconda3;C:\\Users\\gauravsinghal\\AppData\\Local\\Continuum\\Anaconda3\\Library\\mingw-w64\\bin;C:\\Users\\gauravsinghal\\AppData\\Local\\Continuum\\Anaconda3\\Library\\usr\\bin;C:\\Users\\gauravsinghal\\AppData\\Local\\Continuum\\Anaconda3\\Library\\bin;C:\\Users\\gauravsinghal\\AppData\\Local\\Continuum\\Anaconda3\\Scripts;C:\\Users\\gauravsinghal\\AppData\\Local\\Continuum\\Anaconda3\\Library\\bin;C:\\ProgramData\\Oracle\\Java\\javapath;C:\\Program Files (x86)\\Intel\\iCLS Client\\;C:\\Program Files\\Intel\\iCLS Client\\;C:\\Windows\\system32;C:\\Windows;C:\\Windows\\System32\\Wbem;C:\\Windows\\System32\\WindowsPowerShell\\v1.0\\;C:\\Program Files\\Intel\\Intel(R) Management Engine Components\\DAL;C:\\Program Files (x86)\\Intel\\Intel(R) Management Engine Components\\DAL;C:\\Program Files\\Intel\\Intel(R) Management Engine Components\\IPT;C:\\Program Files (x86)\\Intel\\Intel(R) Management Engine Components\\IPT;C:\\Program Files (x86)\\Common Files\\Lenovo;C:\\Program Files (x86)\\Common Files\\lenovo\\easyplussdk\\bin;C:\\ProgramData\\Lenovo\\ReadyApps;C:\\Program Files\\Intel\\WiFi\\bin\\;C:\\Program Files\\Common Files\\Intel\\WirelessCommon\\;C:\\Program Files (x86)\\Skype\\Phone\\;C:\\Program Files\\VisualSVN Server\\bin;C:\\Program Files\\TortoiseSVN\\bin;C:\\Program Files (x86)\\Microsoft Dynamics AX\\60\\Client\\Bin\\;C:\\Program Files\\Git\\cmd;C:\\Users\\gauravsinghal\\AppData\\Local\\Continuum\\Anaconda3;C:\\Users\\gauravsinghal\\AppData\\Local\\Continuum\\Anaconda3\\Scripts;C:\\Users\\gauravsinghal\\AppData\\Local\\Continuum\\Anaconda3\\Library\\bin;C:\\Program Files\\Java\\jdk1.8.0_65\\bin; C:\\Program Files\\Java\\jdk1.7.0_45\\bin;C:\\Users\\gauravsinghal\\AppData\\Roaming\\npm;C:\\Program Files (x86)\\Seqrite\\Terminator SSL VPN Client\\bin;C:\\Program Files\\Docker Toolbox\n",
      "PATHEXT=.COM;.EXE;.BAT;.CMD;.VBS;.VBE;.JS;.JSE;.WSF;.WSH;.MSC\n",
      "PROCESSOR_ARCHITECTURE=x86\n",
      "PROCESSOR_ARCHITEW6432=AMD64\n",
      "PROCESSOR_IDENTIFIER=Intel64 Family 6 Model 60 Stepping 3, GenuineIntel\n",
      "PROCESSOR_LEVEL=6\n",
      "PROCESSOR_REVISION=3c03\n",
      "PROGRAMDATA=C:\\ProgramData\n",
      "PROGRAMFILES=C:\\Program Files (x86)\n",
      "PROGRAMFILES(X86)=C:\\Program Files (x86)\n",
      "PROGRAMW6432=C:\\Program Files\n",
      "PROMPT=(C:\\Users\\gauravsinghal\\AppData\\Local\\Continuum\\Anaconda3) $P$G\n",
      "PSMODULEPATH=C:\\Windows\\system32\\WindowsPowerShell\\v1.0\\Modules\\;C:\\Program Files\\VisualSVN Server\\PowerShellModules\n",
      "PUBLIC=C:\\Users\\Public\n",
      "READYAPPS=C:\\ProgramData\\Lenovo\\ReadyApps\n",
      "SESSIONNAME=Console\n",
      "SWSHARE=C:\\SWSHARE\n",
      "SYSTEMDRIVE=C:\n",
      "SYSTEMROOT=C:\\Windows\n",
      "TEMP=C:\\Users\\GAURAV~1\\AppData\\Local\\Temp\n",
      "TMP=C:\\Users\\GAURAV~1\\AppData\\Local\\Temp\n",
      "TVT=C:\\Program Files (x86)\\Lenovo\n",
      "TVTCOMMON=C:\\Program Files (x86)\\Common Files\\Lenovo\n",
      "UOIPME_REG_PATH=C:\\Program Files\\Intel Corporation\\USB over IP\n",
      "USERDNSDOMAIN=Nagarro.local\n",
      "USERDOMAIN=NAGARRO\n",
      "USERNAME=gauravsinghal\n",
      "USERPROFILE=C:\\Users\\gauravsinghal\n",
      "VBOX_MSI_INSTALL_PATH=C:\\Program Files\\Oracle\\VirtualBox\\\n",
      "VISUALSVN_SERVER=C:\\Program Files\\VisualSVN Server\\\n",
      "WINDIR=C:\\Windows\n",
      "WINDOWS_TRACING_FLAGS=3\n",
      "WINDOWS_TRACING_LOGFILE=C:\\BVTBin\\Tests\\installpackage\\csilogfile.log\n",
      "CONDA_PREFIX=C:\\Users\\gauravsinghal\\AppData\\Local\\Continuum\\Anaconda3\n",
      "JPY_INTERRUPT_EVENT=908\n",
      "IPY_INTERRUPT_EVENT=908\n",
      "JPY_PARENT_PID=916\n",
      "TERM=xterm-color\n",
      "CLICOLOR=1\n",
      "PAGER=cat\n",
      "GIT_PAGER=cat\n",
      "MPLBACKEND=module://ipykernel.pylab.backend_inline\n"
     ]
    }
   ],
   "source": [
    "import os\n",
    "for k,v in os.environ.items():\n",
    "    print(\"%s=%s\"%(k,v))"
   ]
  },
  {
   "cell_type": "code",
   "execution_count": 44,
   "metadata": {},
   "outputs": [
    {
     "data": {
      "text/plain": [
       "'Hi, This is Gaurav '"
      ]
     },
     "execution_count": 44,
     "metadata": {},
     "output_type": "execute_result"
    }
   ],
   "source": [
    "s = \"Hi, This is Gaurav Singhal\"\n",
    "s[-7:]\n",
    "s[:-7]"
   ]
  },
  {
   "cell_type": "code",
   "execution_count": 53,
   "metadata": {},
   "outputs": [
    {
     "data": {
      "text/plain": [
       "'117/340 Agarwal Farm Mansarovar, Jaipur - Raj. 302020'"
      ]
     },
     "execution_count": 53,
     "metadata": {},
     "output_type": "execute_result"
    }
   ],
   "source": [
    "import re\n",
    "add = \"117/340 Agarwal Farm Mansarovar, Jaipur - Rajasthan 302020\"\n",
    "re.sub(r\"\\bRajasthan\\b\", \"Raj.\", add)"
   ]
  }
 ],
 "metadata": {
  "kernelspec": {
   "display_name": "Python 3",
   "language": "python",
   "name": "python3"
  },
  "language_info": {
   "codemirror_mode": {
    "name": "ipython",
    "version": 3
   },
   "file_extension": ".py",
   "mimetype": "text/x-python",
   "name": "python",
   "nbconvert_exporter": "python",
   "pygments_lexer": "ipython3",
   "version": "3.6.1"
  }
 },
 "nbformat": 4,
 "nbformat_minor": 2
}
