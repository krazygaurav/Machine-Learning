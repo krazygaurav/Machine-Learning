{
 "cells": [
  {
   "cell_type": "code",
   "execution_count": 9,
   "metadata": {
    "collapsed": true
   },
   "outputs": [],
   "source": [
    "import numpy as np"
   ]
  },
  {
   "cell_type": "markdown",
   "metadata": {},
   "source": [
    "# Excercise 6"
   ]
  },
  {
   "cell_type": "markdown",
   "metadata": {},
   "source": [
    "Generate following sequences using numpy\n",
    "\n",
    "*Sequence 1:*\n",
    "\n",
    "    [[ 1  1  1  1  1  1  1  1  1  1]\n",
    "     [ 1  2  2  2  2  2  2  2  2  2]\n",
    "     [ 1  2  3  3  3  3  3  3  3  3]\n",
    "     [ 1  2  3  4  4  4  4  4  4  4]\n",
    "     [ 1  2  3  4  5  5  5  5  5  5]\n",
    "     [ 1  2  3  4  5  6  6  6  6  6]\n",
    "     [ 1  2  3  4  5  6  7  7  7  7]\n",
    "     [ 1  2  3  4  5  6  7  8  8  8]\n",
    "     [ 1  2  3  4  5  6  7  8  9  9]\n",
    "     [ 1  2  3  4  5  6  7  8  9 10]]\n",
    "\n",
    "*Sequence 2:*\n",
    "\n",
    "    [[ 1  2  3  4  5  6  7  8  9 10]\n",
    "     [ 2  3  4  5  6  7  8  9 10 11]\n",
    "     [ 3  4  5  6  7  8  9 10 11 12]\n",
    "     [ 4  5  6  7  8  9 10 11 12 13]\n",
    "     [ 5  6  7  8  9 10 11 12 13 14]\n",
    "     [ 6  7  8  9 10 11 12 13 14 15]\n",
    "     [ 7  8  9 10 11 12 13 14 15 16]\n",
    "     [ 8  9 10 11 12 13 14 15 16 17]\n",
    "     [ 9 10 11 12 13 14 15 16 17 18]\n",
    "     [10 11 12 13 14 15 16 17 18 19]]"
   ]
  },
  {
   "cell_type": "code",
   "execution_count": 34,
   "metadata": {},
   "outputs": [],
   "source": [
    "def pattern1():\n",
    "    a = np.ones([10,10], dtype=np.int16)\n",
    "    for i in range(9):\n",
    "        a[i+1:, i+1:] = a[i+1, i+1]+1\n",
    "    print(a)"
   ]
  },
  {
   "cell_type": "code",
   "execution_count": 35,
   "metadata": {},
   "outputs": [
    {
     "name": "stdout",
     "output_type": "stream",
     "text": [
      "[[ 1  1  1  1  1  1  1  1  1  1]\n",
      " [ 1  2  2  2  2  2  2  2  2  2]\n",
      " [ 1  2  3  3  3  3  3  3  3  3]\n",
      " [ 1  2  3  4  4  4  4  4  4  4]\n",
      " [ 1  2  3  4  5  5  5  5  5  5]\n",
      " [ 1  2  3  4  5  6  6  6  6  6]\n",
      " [ 1  2  3  4  5  6  7  7  7  7]\n",
      " [ 1  2  3  4  5  6  7  8  8  8]\n",
      " [ 1  2  3  4  5  6  7  8  9  9]\n",
      " [ 1  2  3  4  5  6  7  8  9 10]]\n"
     ]
    }
   ],
   "source": [
    "pattern1()"
   ]
  },
  {
   "cell_type": "code",
   "execution_count": 36,
   "metadata": {
    "collapsed": true
   },
   "outputs": [],
   "source": [
    "def pattern2():\n",
    "    a = np.zeros([10,10], dtype==np.int16)\n",
    "    for i in range(9):\n",
    "        "
   ]
  },
  {
   "cell_type": "code",
   "execution_count": null,
   "metadata": {
    "collapsed": true
   },
   "outputs": [],
   "source": []
  }
 ],
 "metadata": {
  "anaconda-cloud": {},
  "kernelspec": {
   "display_name": "Python 3",
   "language": "python",
   "name": "python3"
  },
  "language_info": {
   "codemirror_mode": {
    "name": "ipython",
    "version": 3
   },
   "file_extension": ".py",
   "mimetype": "text/x-python",
   "name": "python",
   "nbconvert_exporter": "python",
   "pygments_lexer": "ipython3",
   "version": "3.6.1"
  }
 },
 "nbformat": 4,
 "nbformat_minor": 1
}
